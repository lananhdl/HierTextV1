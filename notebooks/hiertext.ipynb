{
 "cells": [
  {
   "cell_type": "markdown",
   "metadata": {
    "id": "Ui-yYoHjD-ih"
   },
   "source": [
    "### **`Phân tích dữ liệu Hiertext`**"
   ]
  },
  {
   "cell_type": "code",
   "execution_count": null,
   "metadata": {
    "colab": {
     "base_uri": "https://localhost:8080/"
    },
    "executionInfo": {
     "elapsed": 55433,
     "status": "ok",
     "timestamp": 1749629379700,
     "user": {
      "displayName": "learning english learning japanese",
      "userId": "03958486839261790179"
     },
     "user_tz": -420
    },
    "id": "UFbvZQRy_yvW",
    "outputId": "b448383a-211b-4ee9-c808-d35336c00299"
   },
   "outputs": [
    {
     "name": "stdout",
     "output_type": "stream",
     "text": [
      "+---------------------+--------+--------------+-------------+---------+--------+-------------+\n",
      "|       Dataset       |   #Img |  Word-level  |   avg/total |  #Word  |  Line  |  Paragraph  |\n",
      "+=====================+========+==============+=============+=========+========+=============+\n",
      "|   HierText train    |   8281 |  1,014,142   |       122.5 |    ✓    |   ✓    |      ✓      |\n",
      "+---------------------+--------+--------------+-------------+---------+--------+-------------+\n",
      "| HierText validation |   1724 |   210,345    |       122   |    ✓    |   ✓    |      ✓      |\n",
      "+---------------------+--------+--------------+-------------+---------+--------+-------------+\n",
      "|    HierText test    |   1634 |   194,374    |       119   |    ✓    |   ✓    |      ✓      |\n",
      "+---------------------+--------+--------------+-------------+---------+--------+-------------+\n",
      "|   HierText Total    |  11639 |  1,418,861   |       121.9 |    ✓    |   ✓    |      ✓      |\n",
      "+---------------------+--------+--------------+-------------+---------+--------+-------------+\n"
     ]
    }
   ],
   "source": [
    "import json\n",
    "from tabulate import tabulate\n",
    "\n",
    "# Đường dẫn tới các file JSONL\n",
    "jsonl_files = {\n",
    "    \"train\": \"/content/drive/MyDrive/dataanalysis/hiertext/gt/train.jsonl\",\n",
    "    \"validation\": \"/content/drive/MyDrive/dataanalysis/hiertext/gt/validation.jsonl\",\n",
    "    \"test\": \"/content/drive/MyDrive/dataanalysis/hiertext/gt/test.jsonl\"\n",
    "}\n",
    "\n",
    "# Khởi tạo biến đếm tổng\n",
    "total_images = 0\n",
    "total_words = 0\n",
    "has_word_level = False\n",
    "has_line_level = False\n",
    "has_paragraph_level = False\n",
    "\n",
    "# Hàm xử lý một file JSON\n",
    "def process_json_file(json_path):\n",
    "    num_images = 0\n",
    "    file_words = 0\n",
    "    file_has_word = False\n",
    "    file_has_line = False\n",
    "    file_has_paragraph = False\n",
    "\n",
    "    try:\n",
    "        # Read the entire file content as a single string\n",
    "        with open(json_path, \"r\", encoding=\"utf-8\") as f:\n",
    "            file_content = f.read()\n",
    "\n",
    "        # Parse the entire content as a single JSON object\n",
    "        data = json.loads(file_content)\n",
    "\n",
    "        if 'annotations' in data:\n",
    "            annotations = data['annotations']\n",
    "            num_images = len(annotations) # Each annotation object corresponds to an image\n",
    "\n",
    "            for ann in annotations:\n",
    "                # Check annotation levels present and count words\n",
    "                if 'paragraphs' in ann:\n",
    "                    file_has_paragraph = True\n",
    "                    for paragraph in ann['paragraphs']:\n",
    "                        if 'lines' in paragraph:\n",
    "                            file_has_line = True\n",
    "                            for line in paragraph['lines']:\n",
    "                                if 'words' in line:\n",
    "                                    file_has_word = True\n",
    "                                    file_words += len(line['words'])\n",
    "\n",
    "    except json.JSONDecodeError as e:\n",
    "        print(f\"Error decoding JSON in file {json_path}: {e}\")\n",
    "    except Exception as e:\n",
    "        print(f\"An unexpected error occurred while processing {json_path}: {e}\")\n",
    "\n",
    "    return num_images, file_words, file_has_word, file_has_line, file_has_paragraph\n",
    "\n",
    "# Xử lý từng file và lưu kết quả\n",
    "results = []\n",
    "for file_name, file_path in jsonl_files.items():\n",
    "    images, words, file_has_word, file_has_line, file_has_paragraph = process_json_file(file_path)\n",
    "\n",
    "    total_images += images\n",
    "    total_words += words\n",
    "    has_word_level = has_word_level or file_has_word\n",
    "    has_line_level = has_line_level or file_has_line\n",
    "    has_paragraph_level = has_paragraph_level or file_has_paragraph\n",
    "\n",
    "    avg_words = words / images if images > 0 else 0\n",
    "    results.append([\n",
    "        f\"HierText {file_name}\",\n",
    "        images,\n",
    "        f\"{words:,}\" if words > 0 else \"0\",\n",
    "        f\"{avg_words:.1f}\" if images > 0 else \"0\",\n",
    "        \"✓\" if file_has_word else \"✗\",\n",
    "        \"✓\" if file_has_line else \"✗\",\n",
    "        \"✓\" if file_has_paragraph else \"✗\"\n",
    "    ])\n",
    "\n",
    "# Thêm dòng tổng\n",
    "avg_words_total = total_words / total_images if total_images > 0 else 0\n",
    "results.append([\n",
    "    \"HierText Total\",\n",
    "    total_images,\n",
    "    f\"{total_words:,}\" if total_words > 0 else \"0\",\n",
    "    f\"{avg_words_total:.1f}\" if total_images > 0 else \"0\",\n",
    "    \"✓\" if has_word_level else \"✗\",\n",
    "    \"✓\" if has_line_level else \"✗\",\n",
    "    \"✓\" if has_paragraph_level else \"✗\"\n",
    "])\n",
    "\n",
    "# Tạo header cho bảng\n",
    "headers = [\"Dataset\", \"#Img\", \"Word-level\", \"avg/total\", \"#Word\", \"Line\", \"Paragraph\"]\n",
    "\n",
    "# In bảng\n",
    "print(tabulate(results, headers=headers, tablefmt=\"grid\", stralign=\"center\"))"
   ]
  },
  {
   "cell_type": "code",
   "execution_count": null,
   "metadata": {
    "colab": {
     "base_uri": "https://localhost:8080/",
     "height": 507
    },
    "executionInfo": {
     "elapsed": 53149,
     "status": "ok",
     "timestamp": 1749630607971,
     "user": {
      "displayName": "learning english learning japanese",
      "userId": "03958486839261790179"
     },
     "user_tz": -420
    },
    "id": "7MGScJ3kE2H2",
    "outputId": "f9aee58c-56cb-4a00-97c9-efbbc76c5e69"
   },
   "outputs": [
    {
     "data": {
      "image/png": "[encoded data removed]",
      "text/plain": [
       "<Figure size 800x500 with 1 Axes>"
      ]
     },
     "metadata": {},
     "output_type": "display_data"
    }
   ],
   "source": [
    "import json\n",
    "import matplotlib.pyplot as plt\n",
    "import os\n",
    "\n",
    "# Thay đường dẫn đúng nếu bạn dùng trên Colab\n",
    "jsonl_files = [\n",
    "    \"/content/drive/MyDrive/dataanalysis/hiertext/gt/train.jsonl\",\n",
    "    \"/content/drive/MyDrive/dataanalysis/hiertext/gt/validation.jsonl\",\n",
    "    \"/content/drive/MyDrive/dataanalysis/hiertext/gt/test.jsonl\"\n",
    "]\n",
    "\n",
    "# Hàm xử lý dữ liệu từ 1 file JSONL\n",
    "def process_json_file(json_path):\n",
    "    word_counts_lines = []\n",
    "    word_counts_paragraphs = []\n",
    "\n",
    "    try:\n",
    "        # Read the entire file content as a single string\n",
    "        with open(json_path, \"r\", encoding=\"utf-8\") as f:\n",
    "            file_content = f.read()\n",
    "\n",
    "        # Parse the entire content as a single JSON object\n",
    "        data = json.loads(file_content)\n",
    "\n",
    "        if 'annotations' in data:\n",
    "            for ann in data['annotations']:\n",
    "                if 'paragraphs' in ann:\n",
    "                    for paragraph in ann['paragraphs']:\n",
    "                        line_word_counts = []\n",
    "                        if 'lines' in paragraph:\n",
    "                            for line_data in paragraph['lines']:\n",
    "                                if 'words' in line_data:\n",
    "                                    word_count = len(line_data['words'])\n",
    "                                    word_counts_lines.append(word_count)\n",
    "                                    line_word_counts.append(word_count)\n",
    "                        # Tổng số từ trong đoạn\n",
    "                        word_counts_paragraphs.append(sum(line_word_counts))\n",
    "    except FileNotFoundError:\n",
    "        print(f\"⚠️ File not found: {json_path}\")\n",
    "    except json.JSONDecodeError as e:\n",
    "        print(f\"❌ Error decoding JSON in file {json_path}: {e}\")\n",
    "    except Exception as e:\n",
    "        print(f\"❌ An unexpected error occurred while processing {json_path}: {e}\")\n",
    "\n",
    "\n",
    "    return word_counts_lines, word_counts_paragraphs\n",
    "\n",
    "# Tổng hợp dữ liệu từ các file\n",
    "all_word_counts_lines = []\n",
    "all_word_counts_paragraphs = []\n",
    "\n",
    "for file_path in jsonl_files:\n",
    "    if os.path.exists(file_path):\n",
    "        lines, paragraphs = process_json_file(file_path)\n",
    "        all_word_counts_lines.extend(lines)\n",
    "        all_word_counts_paragraphs.extend(paragraphs)\n",
    "    else:\n",
    "        print(f\"⚠️ File not found: {file_path}\")\n",
    "\n",
    "\n",
    "# Phân nhóm số từ: 1, 2-5, 6-10, 11-14, >14\n",
    "bins = [0, 1, 5, 10, 14, float('inf')]\n",
    "labels = ['1', '2-5', '6-10', '11-14', '>14']\n",
    "\n",
    "def bin_data(counts):\n",
    "    binned = [0] * len(labels)\n",
    "    if not counts: # Handle empty counts list\n",
    "        return [0] * len(labels)\n",
    "    for count in counts:\n",
    "        for i, (low, high) in enumerate(zip(bins, bins[1:])):\n",
    "            if low < count <= high:\n",
    "                binned[i] += 1\n",
    "                break\n",
    "    return [x / len(counts) for x in binned]\n",
    "\n",
    "# Tính phần trăm theo bins\n",
    "percent_lines = bin_data(all_word_counts_lines)\n",
    "percent_paragraphs = bin_data(all_word_counts_paragraphs)\n",
    "\n",
    "# Vẽ biểu đồ\n",
    "fig, ax = plt.subplots(figsize=(8, 5))\n",
    "bar_width = 0.35\n",
    "x = range(len(labels))\n",
    "\n",
    "ax.bar(x, percent_lines, bar_width, label='Lines', color='blue')\n",
    "ax.bar([i + bar_width for i in x], percent_paragraphs, bar_width, label='Paragraphs', color='red')\n",
    "\n",
    "# Gắn nhãn, trục, tiêu đề\n",
    "ax.set_xlabel('Number of words')\n",
    "ax.set_ylabel('Percentage of lines/paragraphs')\n",
    "ax.set_title('#words per line/paragraph')\n",
    "ax.set_xticks([i + bar_width/2 for i in x])\n",
    "ax.set_xticklabels(labels)\n",
    "ax.legend()\n",
    "\n",
    "plt.tight_layout()\n",
    "plt.show()"
   ]
  },
  {
   "cell_type": "code",
   "execution_count": null,
   "metadata": {
    "id": "-cnJy0Ee1l32"
   },
   "outputs": [],
   "source": []
  },
  {
   "cell_type": "markdown",
   "metadata": {
    "id": "69MJIeDv1tCb"
   },
   "source": [
    "**Phân tích dữ liệu với cookiecuter-data- science**"
   ]
  },
  {
   "cell_type": "code",
   "execution_count": null,
   "metadata": {
    "colab": {
     "base_uri": "https://localhost:8080/"
    },
    "collapsed": true,
    "executionInfo": {
     "elapsed": 105883,
     "status": "ok",
     "timestamp": 1749711593996,
     "user": {
      "displayName": "learning english learning japanese",
      "userId": "03958486839261790179"
     },
     "user_tz": -420
    },
    "id": "OrkpPk0g7m4h",
    "outputId": "a3f163ff-566b-4312-da3d-8eeeae38775b"
   },
   "outputs": [
    {
     "name": "stdout",
     "output_type": "stream",
     "text": [
      "==================================================\n",
      "THỐNG KÊ CHI TIẾT TỪNG THƯ MỤC\n",
      "==================================================\n",
      "\n",
      "Thư mục TEST:\n",
      "- Số lượng ảnh: 1634\n",
      "- Kích thước trung bình: 1290.5x1099.6\n",
      "\n",
      "Thư mục VALIDATION:\n",
      "- Số lượng ảnh: 1724\n",
      "- Kích thước trung bình: 1289.3x1115.3\n",
      "\n",
      "Thư mục TRAIN:\n",
      "- Số lượng ảnh: 8281\n",
      "- Kích thước trung bình: 1294.1x1113.7\n",
      "\n",
      "==================================================\n",
      "TỔNG HỢP TOÀN BỘ DỮ LIỆU\n",
      "==================================================\n",
      "- Tổng số ảnh: 11639\n",
      "- Kích thước trung bình tổng hợp: 1292.9x1112.0\n",
      "==================================================\n"
     ]
    }
   ],
   "source": [
    "!python /content/drive/MyDrive/dataanalysis/dataanalysisHiertexNhom1/notebooks/image_stats.py"
   ]
  },
  {
   "cell_type": "code",
   "execution_count": null,
   "metadata": {
    "id": "6qF-qsmp9Q0o"
   },
   "outputs": [],
   "source": [
    "!python /content/drive/MyDrive/dataanalysis/dataanalysisHiertexNhom1/notebooks/4preprocessing_images.py"
   ]
  },
  {
   "cell_type": "code",
   "execution_count": null,
   "metadata": {
    "colab": {
     "base_uri": "https://localhost:8080/"
    },
    "executionInfo": {
     "elapsed": 463951,
     "status": "ok",
     "timestamp": 1749715988232,
     "user": {
      "displayName": "learning english learning japanese",
      "userId": "03958486839261790179"
     },
     "user_tz": -420
    },
    "id": "EDkM5CxYLA0y",
    "outputId": "1ec3f500-86f2-4b8f-d64d-e1ee0ceb62a4"
   },
   "outputs": [
    {
     "name": "stdout",
     "output_type": "stream",
     "text": [
      "✅ Đã lưu báo cáo vào: /content/drive/MyDrive/dataanalysis/dataanalysisHiertexNhom1/outputs/image_statistics.csv\n"
     ]
    }
   ],
   "source": [
    "import os\n",
    "import pandas as pd\n",
    "from PIL import Image, ImageStat\n",
    "from torchvision import transforms\n",
    "\n",
    "# Bước 2: Thiết lập đường dẫn và các thư mục\n",
    "base_dir = \"/content/drive/MyDrive/dataanalysis/dataanalysisHiertexNhom1/data/raw/images\"\n",
    "folders = ['train', 'validation', 'test']\n",
    "\n",
    "# Bước 3: Thiết lập thông số resize và pipeline transform\n",
    "resize_size = (224, 224)\n",
    "transform = transforms.Compose([\n",
    "    transforms.Resize(resize_size),\n",
    "    transforms.ToTensor(),  # Biến ảnh thành tensor (chuẩn hóa [0,1])\n",
    "    transforms.Normalize(mean=[0.5]*3, std=[0.5]*3)  # Chuẩn hóa [-1,1]\n",
    "])\n",
    "\n",
    "# Bước 4: Thu thập thống kê và ghi metadata\n",
    "image_data = []\n",
    "\n",
    "for folder in folders:\n",
    "    folder_path = os.path.join(base_dir, folder)\n",
    "    files = [f for f in os.listdir(folder_path) if f.lower().endswith(('jpg', 'jpeg', 'png'))]\n",
    "\n",
    "    for file in files:\n",
    "        img_path = os.path.join(folder_path, file)\n",
    "        try:\n",
    "            with Image.open(img_path).convert('RGB') as img:\n",
    "                original_size = img.size\n",
    "\n",
    "                # Resize ảnh\n",
    "                img_resized = img.resize(resize_size)\n",
    "\n",
    "                # Tính toán thống kê pixel\n",
    "                stat = ImageStat.Stat(img_resized)\n",
    "                mean = stat.mean\n",
    "                stddev = stat.stddev\n",
    "\n",
    "                # Ghi lại thông tin ảnh\n",
    "                image_data.append({\n",
    "                    'filename': file,\n",
    "                    'folder': folder,\n",
    "                    'original_width': original_size[0],\n",
    "                    'original_height': original_size[1],\n",
    "                    'resized_width': resize_size[0],\n",
    "                    'resized_height': resize_size[1],\n",
    "                    'mean_R': round(mean[0], 2),\n",
    "                    'mean_G': round(mean[1], 2),\n",
    "                    'mean_B': round(mean[2], 2),\n",
    "                    'std_R': round(stddev[0], 2),\n",
    "                    'std_G': round(stddev[1], 2),\n",
    "                    'std_B': round(stddev[2], 2)\n",
    "                })\n",
    "\n",
    "        except Exception as e:\n",
    "            print(f\"Lỗi với ảnh {file}: {e}\")\n",
    "\n",
    "# Bước 5: Lưu kết quả vào file CSV\n",
    "output_csv = \"/content/drive/MyDrive/dataanalysis/dataanalysisHiertexNhom1/outputs/image_statistics.csv\"\n",
    "os.makedirs(os.path.dirname(output_csv), exist_ok=True)\n",
    "\n",
    "df = pd.DataFrame(image_data)\n",
    "df.to_csv(output_csv, index=False)\n",
    "\n",
    "print(f\"✅ Đã lưu báo cáo vào: {output_csv}\")\n"
   ]
  },
  {
   "cell_type": "markdown",
   "metadata": {
    "id": "_b1RFLThNzK5"
   },
   "source": [
    "Đoạn này cho *ocr* **bold text**"
   ]
  },
  {
   "cell_type": "markdown",
   "metadata": {
    "id": "oOdsXICEN_K3"
   },
   "source": [
    "Bước 1: Xem ảnh mẫu"
   ]
  },
  {
   "cell_type": "code",
   "execution_count": 1,
   "metadata": {
    "colab": {
     "base_uri": "https://localhost:8080/",
     "height": 1000,
     "output_embedded_package_id": "1CKzmccxR2hDg4kOlv3lpYp0omakFPlhx"
    },
    "collapsed": true,
    "executionInfo": {
     "elapsed": 34995,
     "status": "ok",
     "timestamp": 1749884171293,
     "user": {
      "displayName": "learning english learning japanese",
      "userId": "03958486839261790179"
     },
     "user_tz": -420
    },
    "id": "A0nGE2phN1lG",
    "outputId": "f962a66f-6f51-4c0f-c9d7-b6fcdab8ddd8"
   },
   "outputs": [
    {
     "data": {
      "text/plain": [
       "Output hidden; open in https://colab.research.google.com to view."
      ]
     },
     "metadata": {},
     "output_type": "display_data"
    }
   ],
   "source": [
    "import os\n",
    "from PIL import Image\n",
    "import matplotlib.pyplot as plt\n",
    "import random\n",
    "\n",
    "base_dir = \"/content/drive/MyDrive/dataanalysis/dataanalysisHiertexNhom1/data/raw/images\"\n",
    "folders = ['train', 'validation', 'test']\n",
    "\n",
    "def show_sample_images(folder_path, num_samples=3):\n",
    "    files = [f for f in os.listdir(folder_path) if f.lower().endswith(('jpg','jpeg','png'))]\n",
    "    sample_files = random.sample(files, min(num_samples, len(files)))\n",
    "    for f in sample_files:\n",
    "        img = Image.open(os.path.join(folder_path, f))\n",
    "        plt.imshow(img)\n",
    "        plt.title(f)\n",
    "        plt.axis('off')\n",
    "        plt.show()\n",
    "\n",
    "for folder in folders:\n",
    "    folder_path = os.path.join(base_dir, folder)\n",
    "    print(f\"Ảnh mẫu từ folder: {folder}\")\n",
    "    show_sample_images(folder_path)\n"
   ]
  },
  {
   "cell_type": "markdown",
   "metadata": {
    "id": "6KGfyoieOGz7"
   },
   "source": [
    "Bước 2: Thống kê kích thước ảnh"
   ]
  },
  {
   "cell_type": "code",
   "execution_count": null,
   "metadata": {
    "colab": {
     "base_uri": "https://localhost:8080/"
    },
    "executionInfo": {
     "elapsed": 130596,
     "status": "ok",
     "timestamp": 1749716482787,
     "user": {
      "displayName": "learning english learning japanese",
      "userId": "03958486839261790179"
     },
     "user_tz": -420
    },
    "id": "EPIPBVt5OGkU",
    "outputId": "bc6337ed-b963-4500-a171-1f6635b12729"
   },
   "outputs": [
    {
     "name": "stdout",
     "output_type": "stream",
     "text": [
      "                  width                              height             \\\n",
      "                   mean  min   max         std         mean  min   max   \n",
      "folder                                                                   \n",
      "test        1290.495104  219  1600  372.590645  1099.553244  240  1600   \n",
      "train       1294.093829  192  1600  368.682121  1113.740249  117  1600   \n",
      "validation  1289.330046  299  1600  365.530150  1115.300464  188  1600   \n",
      "\n",
      "                        \n",
      "                   std  \n",
      "folder                  \n",
      "test        340.579064  \n",
      "train       333.370101  \n",
      "validation  338.007375  \n"
     ]
    }
   ],
   "source": [
    "import pandas as pd\n",
    "\n",
    "image_info = []\n",
    "\n",
    "for folder in folders:\n",
    "    folder_path = os.path.join(base_dir, folder)\n",
    "    files = [f for f in os.listdir(folder_path) if f.lower().endswith(('jpg','jpeg','png'))]\n",
    "    for f in files:\n",
    "        try:\n",
    "            img = Image.open(os.path.join(folder_path, f))\n",
    "            width, height = img.size\n",
    "            image_info.append({'folder': folder, 'filename': f, 'width': width, 'height': height})\n",
    "        except Exception as e:\n",
    "            print(f\"Lỗi mở ảnh {f}: {e}\")\n",
    "\n",
    "df_img = pd.DataFrame(image_info)\n",
    "print(df_img.groupby('folder')[['width','height']].agg(['mean','min','max','std']))\n"
   ]
  },
  {
   "cell_type": "markdown",
   "metadata": {
    "id": "ZB7PJg4mOSmo"
   },
   "source": [
    "Bước 3: Tạo annotation"
   ]
  },
  {
   "cell_type": "markdown",
   "metadata": {
    "id": "75xJxsQQSuq8"
   },
   "source": [
    "unifier **detexter** **bold text**"
   ]
  }
 ],
 "metadata": {
  "colab": {
   "authorship_tag": "ABX9TyPRdTTBO/5N0Xiz6XH2Ob7J",
   "mount_file_id": "19AlFPtYhi3H0nQrgbTs8u2QYw8_qSTR2",
   "provenance": []
  },
  "kernelspec": {
   "display_name": "Python 3",
   "name": "python3"
  },
  "language_info": {
   "name": "python"
  }
 },
 "nbformat": 4,
 "nbformat_minor": 0
}
